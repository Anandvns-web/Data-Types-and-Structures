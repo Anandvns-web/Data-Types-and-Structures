{
  "cells": [
    {
      "cell_type": "markdown",
      "metadata": {
        "id": "view-in-github",
        "colab_type": "text"
      },
      "source": [
        "<a href=\"https://colab.research.google.com/github/Anandvns-web/Data-Types-and-Structures/blob/main/Welcome_to_Colab.ipynb\" target=\"_parent\"><img src=\"https://colab.research.google.com/assets/colab-badge.svg\" alt=\"Open In Colab\"/></a>"
      ]
    },
    {
      "cell_type": "markdown",
      "source": [
        "1)\tWhat are data structures, and why are they important?\n",
        "Ans) Data structures are ways to organize and store data so we can use it efficiently. They help make programs faster and easier to understand.\n",
        "________________________________________\n",
        "2)\tExplain the difference between mutable and immutable data types with examples.\n",
        "Ans) Mutable means you can change the data (like a list).\n",
        "        Example: my_list = [1, 2, 3] → You can do my_list[0] = 10\n",
        "  Immutable means you can't change the data (like a tuple or string).\n",
        "   Example: my_str = \"hello\" → You can't change just one letter.\n",
        "________________________________________\n",
        "3)\tWhat are the main differences between lists and tuples in Python?\n",
        "Ans) Feature\tList\tTuple\n",
        "Changeable\t Yes\t No\n",
        "Syntax\t[1, 2, 3]\t(1, 2, 3)\n",
        "Speed\tSlower\tFaster\n",
        "Use case\tWhen data changes\tWhen data stays the same\n",
        "________________________________________\n",
        "4)\t Describe how dictionaries store data.\n",
        "Ans) Dictionaries store data as key-value pairs.\n",
        "Example: {\"name\": \"Anand\", \"age\": 25}\n",
        "Each key (like \"name\") maps to a value (like \"Anand\").\n",
        "________________________________________\n",
        "5)\tWhy might you use a set instead of a list in Python?\n",
        "Ans) Sets remove duplicates automatically.\n",
        "They are faster for checking if something exists.\n",
        "________________________________________\n",
        "6)\tWhat is a string in Python, and how is it different from a list?\n",
        "Ans) A string is a sequence of characters (like \"hello\").\n",
        " A list can hold anything: numbers, strings, other lists.\n",
        " You can't change a string, but you can change a list.\n",
        "________________________________________\n",
        "7)\tHow do tuples ensure data integrity in Python?\n",
        "Ans)  Tuples can't be changed, so once created, the data stays safe. This helps when you don’t want the data to accidentally change.\n",
        "________________________________________\n",
        "8)\tWhat is a hash table, and how does it relate to dictionaries in Python?\n",
        "Ans) A hash table is a system to store data for quick access.\n",
        "Python dictionaries use hash tables to find values by their keys very fast.\n",
        "________________________________________\n",
        "9)\tCan lists contain different data types in Python?\n",
        "Ans) Yes, a list can have different data types.\n",
        "Example: [1, \"hello\", True]\n",
        "________________________________________\n",
        "10)\t Explain why strings are immutable in Python.\n",
        "Ans) Strings are immutable to make them safe and fast.\n",
        "Changing them would be slow and could cause bugs in programs.\n",
        "________________________________________\n",
        "11)\tWhat advantages do dictionaries offer over lists for certain tasks?\n",
        "Ans) Fast lookup using keys\n",
        " Easy to label data (like \"name\": \"Anand\")\n",
        "________________________________________\n",
        "12)\t Describe a scenario where using a tuple would be preferable over a list.\n",
        "Ans) Use a tuple when:\n",
        "•\tThe data shouldn't change (e.g., days of the week)\n",
        "•\tYou want to use it as a key in a dictionary\n",
        "________________________________________\n",
        "13)\t How do sets handle duplicate values in Python?\n",
        "Ans) Sets ignore duplicate values automatically.\n",
        "Example: set([1, 2, 2, 3]) → {1, 2, 3}\n",
        "________________________________________\n",
        "14)\t How does the “in” keyword work differently for lists and dictionaries?\n",
        "Ans) In a list, in checks if a value is present.\n",
        "   \"apple\" in [\"apple\", \"banana\"] →  True\n",
        "In a dictionary, in checks if a key exists.\n",
        " \"name\" in {\"name\": \"Anand\"} → True\n",
        "________________________________________\n",
        "15)\t Can you modify the elements of a tuple? Explain why or why not?\n",
        "Ans) No, you can’t change a tuple after it’s created. Tuples are immutable.\n",
        "________________________________________\n",
        "16)\t What is a nested dictionary, and give an example of its use case?\n",
        "Ans) A nested dictionary is a dictionary inside another dictionary.\n",
        " Example:\n",
        "student = {\n",
        " \"name\": \"Anand\",\n",
        "  \"marks\": {\"math\": 90, \"science\": 85}\n",
        "}\n",
        "________________________________________\n",
        "17)\t Describe the time complexity of accessing elements in a dictionary.\n",
        "Ans) It’s usually O(1) — very fast, because of the hash table behind it.\n",
        "________________________________________\n",
        "18)\t In what situations are lists preferred over dictionaries?\n",
        "Ans) Use a list when:\n",
        "•\tYou just need ordered items\n",
        "•\tYou don’t need key-value pairs\n",
        "________________________________________\n",
        "19)\tWhy are dictionaries considered unordered, and how does that affect data retrieval?\n",
        "Ans) Before Python 3.7, dictionaries were unordered (no fixed order).\n",
        "Now they keep insertion order, but you still access items by key, not by position.\n",
        "________________________________________\n",
        "20)\tExplain the difference between a list and a dictionary in terms of data retrieval.\n",
        "Ans) List: Access by position → my_list[0]\n",
        " Dictionary: Access by key → my_dict[\"name\"]"
      ],
      "metadata": {
        "id": "O57QZ6cskdl5"
      }
    },
    {
      "cell_type": "markdown",
      "source": [
        "Practical Questions"
      ],
      "metadata": {
        "id": "pq-7LHNIlMsK"
      }
    },
    {
      "cell_type": "markdown",
      "source": [
        "1) Write a code to create a string with your name and print it.\n"
      ],
      "metadata": {
        "id": "_JJr1c4nlQbF"
      }
    },
    {
      "cell_type": "code",
      "source": [
        "name = \"Anand\"\n",
        "print(name)\n"
      ],
      "metadata": {
        "colab": {
          "base_uri": "https://localhost:8080/"
        },
        "id": "He_WahTmlYX3",
        "outputId": "f46ab641-fb46-44d3-9570-d8fbc92676f1"
      },
      "execution_count": 560,
      "outputs": [
        {
          "output_type": "stream",
          "name": "stdout",
          "text": [
            "Anand\n"
          ]
        }
      ]
    },
    {
      "cell_type": "markdown",
      "source": [
        "2)Write a code to find the length of the string \"Hello World.\n"
      ],
      "metadata": {
        "id": "nU3ekatxlemL"
      }
    },
    {
      "cell_type": "code",
      "source": [
        "text = \"Hello World\"\n",
        "print(len(text))\n"
      ],
      "metadata": {
        "colab": {
          "base_uri": "https://localhost:8080/"
        },
        "id": "JuyMm59Blj44",
        "outputId": "7c47e027-d695-4ede-c00c-301ce630b472"
      },
      "execution_count": 561,
      "outputs": [
        {
          "output_type": "stream",
          "name": "stdout",
          "text": [
            "11\n"
          ]
        }
      ]
    },
    {
      "cell_type": "markdown",
      "source": [
        "3) Write a code to slice the first 3 characters from the string \"Python Programming\".\n"
      ],
      "metadata": {
        "id": "agvGHTrLlnUM"
      }
    },
    {
      "cell_type": "code",
      "source": [
        "text = \"Python Programming\"\n",
        "print(text[:3])\n"
      ],
      "metadata": {
        "colab": {
          "base_uri": "https://localhost:8080/"
        },
        "id": "F0Id7t6olr0o",
        "outputId": "c31c6107-faa7-4fcd-b257-a24350b46193"
      },
      "execution_count": 562,
      "outputs": [
        {
          "output_type": "stream",
          "name": "stdout",
          "text": [
            "Pyt\n"
          ]
        }
      ]
    },
    {
      "cell_type": "markdown",
      "source": [
        "4)Write a code to convert the string \"hello\" to uppercase.\n"
      ],
      "metadata": {
        "id": "ww9xB-p6lx5d"
      }
    },
    {
      "cell_type": "code",
      "source": [
        "word = \"hello\"\n",
        "print(word.upper())"
      ],
      "metadata": {
        "colab": {
          "base_uri": "https://localhost:8080/"
        },
        "id": "a0zxT5GWl1rK",
        "outputId": "413c825b-b502-4dc2-dcb0-21bdf13ceb92"
      },
      "execution_count": 563,
      "outputs": [
        {
          "output_type": "stream",
          "name": "stdout",
          "text": [
            "HELLO\n"
          ]
        }
      ]
    },
    {
      "cell_type": "markdown",
      "source": [
        "5) Write a code to replace the word \"apple\" with \"orange\" in the string \"I like apple\".\n"
      ],
      "metadata": {
        "id": "K8iWUqEul6kr"
      }
    },
    {
      "cell_type": "code",
      "source": [
        "sentence = \"I like apple\"\n",
        "print(sentence.replace(\"apple\", \"orange\"))"
      ],
      "metadata": {
        "colab": {
          "base_uri": "https://localhost:8080/"
        },
        "id": "Y5KnyZAyl-68",
        "outputId": "f1e98804-96f5-43e0-fb53-8d7f42dd1ba6"
      },
      "execution_count": 564,
      "outputs": [
        {
          "output_type": "stream",
          "name": "stdout",
          "text": [
            "I like orange\n"
          ]
        }
      ]
    },
    {
      "cell_type": "markdown",
      "source": [
        "6)Write a code to create a list with numbers 1 to 5 and print it.\n"
      ],
      "metadata": {
        "id": "JCaDLF8lmDOH"
      }
    },
    {
      "cell_type": "code",
      "source": [
        "numbers = [1, 2, 3, 4, 5]\n",
        "print(numbers)\n"
      ],
      "metadata": {
        "colab": {
          "base_uri": "https://localhost:8080/"
        },
        "id": "jX4rnSKbmJKh",
        "outputId": "6ef8afaf-e327-435e-84f8-af3ef06945e7"
      },
      "execution_count": 565,
      "outputs": [
        {
          "output_type": "stream",
          "name": "stdout",
          "text": [
            "[1, 2, 3, 4, 5]\n"
          ]
        }
      ]
    },
    {
      "cell_type": "markdown",
      "source": [
        "7)Write a code to append the number 10 to the list [1, 2, 3, 4].\n"
      ],
      "metadata": {
        "id": "sUeadpl7mMNh"
      }
    },
    {
      "cell_type": "code",
      "source": [
        "my_list = [1, 2, 3, 4]\n",
        "my_list.append(10)\n",
        "print(my_list)\n"
      ],
      "metadata": {
        "colab": {
          "base_uri": "https://localhost:8080/"
        },
        "id": "pCov01HimQBs",
        "outputId": "b955e744-6180-4aa7-a664-6f621e200323"
      },
      "execution_count": 566,
      "outputs": [
        {
          "output_type": "stream",
          "name": "stdout",
          "text": [
            "[1, 2, 3, 4, 10]\n"
          ]
        }
      ]
    },
    {
      "cell_type": "markdown",
      "source": [
        "8)Write a code to remove the number 3 from the list [1, 2, 3, 4, 5].\n"
      ],
      "metadata": {
        "id": "f8nMfQncmTMp"
      }
    },
    {
      "cell_type": "code",
      "source": [
        "my_list = [1, 2, 3, 4, 5]\n",
        "my_list.remove(3)\n",
        "print(my_list)"
      ],
      "metadata": {
        "colab": {
          "base_uri": "https://localhost:8080/"
        },
        "id": "Aim0ADUPmYCy",
        "outputId": "6416512c-da2c-4615-d535-8470f441be38"
      },
      "execution_count": 567,
      "outputs": [
        {
          "output_type": "stream",
          "name": "stdout",
          "text": [
            "[1, 2, 4, 5]\n"
          ]
        }
      ]
    },
    {
      "cell_type": "markdown",
      "source": [
        "9)Write a code to access the second element in the list ['a', 'b', 'c', 'd'].\n"
      ],
      "metadata": {
        "id": "8Sch_lQkmheX"
      }
    },
    {
      "cell_type": "code",
      "source": [
        "letters = ['a', 'b', 'c', 'd']\n",
        "print(letters[1])"
      ],
      "metadata": {
        "colab": {
          "base_uri": "https://localhost:8080/"
        },
        "id": "VD8Fx_xWmlsz",
        "outputId": "bc6b24df-a998-4527-dfcf-db26a753b41a"
      },
      "execution_count": 568,
      "outputs": [
        {
          "output_type": "stream",
          "name": "stdout",
          "text": [
            "b\n"
          ]
        }
      ]
    },
    {
      "cell_type": "markdown",
      "source": [
        "10)Write a code to reverse the list [10, 20, 30, 40, 50]."
      ],
      "metadata": {
        "id": "YO72s3f2mpNb"
      }
    },
    {
      "cell_type": "code",
      "source": [
        "my_list = [10, 20, 30, 40, 50]\n",
        "my_list.reverse()\n",
        "print(my_list)"
      ],
      "metadata": {
        "colab": {
          "base_uri": "https://localhost:8080/"
        },
        "id": "iPUd15hjmsiK",
        "outputId": "8d952097-c648-4072-d1e2-f822be81db76"
      },
      "execution_count": 569,
      "outputs": [
        {
          "output_type": "stream",
          "name": "stdout",
          "text": [
            "[50, 40, 30, 20, 10]\n"
          ]
        }
      ]
    },
    {
      "cell_type": "markdown",
      "source": [
        "11) Write a code to create a tuple with the elements 100, 200, 300 and print it."
      ],
      "metadata": {
        "id": "KAKL2N2SmwFa"
      }
    },
    {
      "cell_type": "code",
      "source": [
        "my_tuple = (100, 200, 300)\n",
        "print(my_tuple)"
      ],
      "metadata": {
        "colab": {
          "base_uri": "https://localhost:8080/"
        },
        "id": "5fVfWEJumzw0",
        "outputId": "51e76188-c12e-4aa7-ce75-929107366ab2"
      },
      "execution_count": 570,
      "outputs": [
        {
          "output_type": "stream",
          "name": "stdout",
          "text": [
            "(100, 200, 300)\n"
          ]
        }
      ]
    },
    {
      "cell_type": "markdown",
      "source": [
        "12. Write a code to access the second-to-last element of the tuple ('red', 'green', 'blue', 'yellow')."
      ],
      "metadata": {
        "id": "-rxvrvewm2bs"
      }
    },
    {
      "cell_type": "code",
      "source": [
        "colors = ('red', 'green', 'blue', 'yellow')\n",
        "print(colors[-2])"
      ],
      "metadata": {
        "colab": {
          "base_uri": "https://localhost:8080/"
        },
        "id": "z2OyR8Gxm4xk",
        "outputId": "9361cd93-1fe7-4099-c773-cc307e4d3f4e"
      },
      "execution_count": 571,
      "outputs": [
        {
          "output_type": "stream",
          "name": "stdout",
          "text": [
            "blue\n"
          ]
        }
      ]
    },
    {
      "cell_type": "markdown",
      "source": [
        "13. Write a code to find the minimum number in the tuple (10, 20, 5, 15)."
      ],
      "metadata": {
        "id": "LRCoMDIIm7_n"
      }
    },
    {
      "cell_type": "code",
      "source": [
        "numbers = (10, 20, 5, 15)\n",
        "print(min(numbers))"
      ],
      "metadata": {
        "colab": {
          "base_uri": "https://localhost:8080/"
        },
        "id": "bsoE99Ahm-WF",
        "outputId": "b302548e-ad77-4e31-f4d1-bc8573a84983"
      },
      "execution_count": 572,
      "outputs": [
        {
          "output_type": "stream",
          "name": "stdout",
          "text": [
            "5\n"
          ]
        }
      ]
    },
    {
      "cell_type": "markdown",
      "source": [
        "14. Write a code to find the index of the element \"cat\" in the tuple ('dog', 'cat', 'rabbit')."
      ],
      "metadata": {
        "id": "2OTWJfk4nA98"
      }
    },
    {
      "cell_type": "code",
      "source": [
        "animals = ('dog', 'cat', 'rabbit')\n",
        "print(animals.index(\"cat\"))"
      ],
      "metadata": {
        "colab": {
          "base_uri": "https://localhost:8080/"
        },
        "id": "557-BRKcnDpR",
        "outputId": "64f8fc76-d126-4263-e270-38f11741c89c"
      },
      "execution_count": 573,
      "outputs": [
        {
          "output_type": "stream",
          "name": "stdout",
          "text": [
            "1\n"
          ]
        }
      ]
    },
    {
      "cell_type": "markdown",
      "source": [
        "15. Write a code to create a tuple containing three different fruits and check if \"kiwi\" is in it."
      ],
      "metadata": {
        "id": "U3DJUcfpnHaV"
      }
    },
    {
      "cell_type": "code",
      "source": [
        "fruits = (\"apple\", \"banana\", \"mango\")\n",
        "print(\"kiwi\" in fruits)"
      ],
      "metadata": {
        "colab": {
          "base_uri": "https://localhost:8080/"
        },
        "id": "Y7Qc6keEnJQu",
        "outputId": "a6de1641-3d83-416b-fcdf-a8e49c25f693"
      },
      "execution_count": 574,
      "outputs": [
        {
          "output_type": "stream",
          "name": "stdout",
          "text": [
            "False\n"
          ]
        }
      ]
    },
    {
      "cell_type": "markdown",
      "source": [
        "16. Write a code to create a set with the elements 'a', 'b', 'c' and print it."
      ],
      "metadata": {
        "id": "UnkoqkJWnMUO"
      }
    },
    {
      "cell_type": "code",
      "source": [
        "my_set = {'a', 'b', 'c'}\n",
        "print(my_set)"
      ],
      "metadata": {
        "colab": {
          "base_uri": "https://localhost:8080/"
        },
        "id": "GIUA_G4MnOD4",
        "outputId": "91c21af1-038b-475c-bbb9-7fc5532b0771"
      },
      "execution_count": 575,
      "outputs": [
        {
          "output_type": "stream",
          "name": "stdout",
          "text": [
            "{'c', 'a', 'b'}\n"
          ]
        }
      ]
    },
    {
      "cell_type": "markdown",
      "source": [
        "17. Write a code to clear all elements from the set {1, 2, 3, 4, 5}."
      ],
      "metadata": {
        "id": "TOj4_RMknR7Q"
      }
    },
    {
      "cell_type": "code",
      "source": [
        "my_set = {1, 2, 3, 4, 5}\n",
        "my_set.clear()\n",
        "print(my_set)"
      ],
      "metadata": {
        "colab": {
          "base_uri": "https://localhost:8080/"
        },
        "id": "7fPgzXCAnWZb",
        "outputId": "1006ec7c-1aa7-45e7-edc2-48121488545f"
      },
      "execution_count": 576,
      "outputs": [
        {
          "output_type": "stream",
          "name": "stdout",
          "text": [
            "set()\n"
          ]
        }
      ]
    },
    {
      "cell_type": "markdown",
      "source": [
        "18. Write a code to remove the element 4 from the set {1, 2, 3, 4}."
      ],
      "metadata": {
        "id": "P_sqzo0ZnY3v"
      }
    },
    {
      "cell_type": "code",
      "source": [
        "my_set = {1, 2, 3, 4}\n",
        "my_set.remove(4)\n",
        "print(my_set)"
      ],
      "metadata": {
        "colab": {
          "base_uri": "https://localhost:8080/"
        },
        "id": "Q3jgAWyjnbgU",
        "outputId": "b30f5905-40d6-4d14-89ef-2dad6d730fbe"
      },
      "execution_count": 577,
      "outputs": [
        {
          "output_type": "stream",
          "name": "stdout",
          "text": [
            "{1, 2, 3}\n"
          ]
        }
      ]
    },
    {
      "cell_type": "markdown",
      "source": [
        "19. Write a code to find the union of two sets {1, 2, 3} and {3, 4, 5}."
      ],
      "metadata": {
        "id": "rqtpwPnYne5j"
      }
    },
    {
      "cell_type": "code",
      "source": [
        "set1 = {1, 2, 3}\n",
        "set2 = {3, 4, 5}\n",
        "print(set1.union(set2))"
      ],
      "metadata": {
        "colab": {
          "base_uri": "https://localhost:8080/"
        },
        "id": "J0n8XP5engju",
        "outputId": "3b49545d-32c4-4e4f-8465-70a96907c57e"
      },
      "execution_count": 578,
      "outputs": [
        {
          "output_type": "stream",
          "name": "stdout",
          "text": [
            "{1, 2, 3, 4, 5}\n"
          ]
        }
      ]
    },
    {
      "cell_type": "markdown",
      "source": [
        "20. Write a code to find the intersection of two sets {1, 2, 3} and {2, 3, 4}."
      ],
      "metadata": {
        "id": "fXOfUV4VnmG9"
      }
    },
    {
      "cell_type": "code",
      "source": [
        "set1 = {1, 2, 3}\n",
        "set2 = {2, 3, 4}\n",
        "print(set1.intersection(set2))"
      ],
      "metadata": {
        "colab": {
          "base_uri": "https://localhost:8080/"
        },
        "id": "ZZv70L-jnnLC",
        "outputId": "7ab6a86d-9324-47e5-bdef-e886a0ebe8dc"
      },
      "execution_count": 579,
      "outputs": [
        {
          "output_type": "stream",
          "name": "stdout",
          "text": [
            "{2, 3}\n"
          ]
        }
      ]
    },
    {
      "cell_type": "markdown",
      "source": [
        "21. Write a code to create a dictionary with the keys \"name\", \"age\", and \"city\", and print it."
      ],
      "metadata": {
        "id": "FGXzlj6MnqON"
      }
    },
    {
      "cell_type": "code",
      "source": [
        "person = {\"name\": \"Anand\", \"age\": 25, \"city\": \"Pune\"}\n",
        "print(person)"
      ],
      "metadata": {
        "colab": {
          "base_uri": "https://localhost:8080/"
        },
        "id": "u_t3wB6Mnsso",
        "outputId": "9f97e0da-1cc4-4b45-f87b-5eb48739c3c8"
      },
      "execution_count": 580,
      "outputs": [
        {
          "output_type": "stream",
          "name": "stdout",
          "text": [
            "{'name': 'Anand', 'age': 25, 'city': 'Pune'}\n"
          ]
        }
      ]
    },
    {
      "cell_type": "markdown",
      "source": [
        "22. Write a code to add a new key-value pair \"country\": \"USA\" to the dictionary {'name': 'John', 'age': 25}."
      ],
      "metadata": {
        "id": "UYi4E4U0nvLH"
      }
    },
    {
      "cell_type": "code",
      "source": [
        "person = {'name': 'John', 'age': 25}\n",
        "person[\"country\"] = \"USA\"\n",
        "print(person)"
      ],
      "metadata": {
        "colab": {
          "base_uri": "https://localhost:8080/"
        },
        "id": "rvJqszdfnyS0",
        "outputId": "c38bdf18-2fd2-4cf0-e000-cfab9926226a"
      },
      "execution_count": 581,
      "outputs": [
        {
          "output_type": "stream",
          "name": "stdout",
          "text": [
            "{'name': 'John', 'age': 25, 'country': 'USA'}\n"
          ]
        }
      ]
    },
    {
      "cell_type": "markdown",
      "source": [
        "23. Write a code to access the value associated with the key \"name\" in the dictionary {'name': 'Alice', 'age': 30}."
      ],
      "metadata": {
        "id": "9WNqKJJVn2hb"
      }
    },
    {
      "cell_type": "code",
      "source": [
        "person = {'name': 'Alice', 'age': 30}\n",
        "print(person[\"name\"])"
      ],
      "metadata": {
        "colab": {
          "base_uri": "https://localhost:8080/"
        },
        "id": "Ug7-xTbSn427",
        "outputId": "2326c22d-f6dc-4d17-d3bb-3d8c85b7f23e"
      },
      "execution_count": 582,
      "outputs": [
        {
          "output_type": "stream",
          "name": "stdout",
          "text": [
            "Alice\n"
          ]
        }
      ]
    },
    {
      "cell_type": "markdown",
      "source": [
        "24. Write a code to remove the key \"age\" from the dictionary {'name': 'Bob', 'age': 22, 'city': 'New York'}."
      ],
      "metadata": {
        "id": "KBmhW_Gtn8o0"
      }
    },
    {
      "cell_type": "code",
      "source": [
        "person = {'name': 'Bob', 'age': 22, 'city': 'New York'}\n",
        "del person[\"age\"]\n",
        "print(person)"
      ],
      "metadata": {
        "colab": {
          "base_uri": "https://localhost:8080/"
        },
        "id": "NinHs8TdoBwL",
        "outputId": "9da97bff-3dd2-4eed-96c5-7e5a50abfb8a"
      },
      "execution_count": 583,
      "outputs": [
        {
          "output_type": "stream",
          "name": "stdout",
          "text": [
            "{'name': 'Bob', 'city': 'New York'}\n"
          ]
        }
      ]
    },
    {
      "cell_type": "markdown",
      "source": [
        "25. Write a code to check if the key \"city\" exists in the dictionary {'name': 'Alice', 'city': 'Paris'}."
      ],
      "metadata": {
        "id": "RY2ZTA5eoE3Z"
      }
    },
    {
      "cell_type": "code",
      "source": [
        "person = {'name': 'Alice', 'city': 'Paris'}\n",
        "print(\"city\" in person)"
      ],
      "metadata": {
        "colab": {
          "base_uri": "https://localhost:8080/"
        },
        "id": "DnnBZnbeoHde",
        "outputId": "0ac95865-20e4-4f44-87f1-1cdd9e6d4e64"
      },
      "execution_count": 584,
      "outputs": [
        {
          "output_type": "stream",
          "name": "stdout",
          "text": [
            "True\n"
          ]
        }
      ]
    },
    {
      "cell_type": "markdown",
      "source": [
        "26. Write a code to create a list, a tuple, and a dictionary, and print them all."
      ],
      "metadata": {
        "id": "HJcgQ9E5oK7Q"
      }
    },
    {
      "cell_type": "code",
      "source": [
        "my_list = [1, 2, 3]\n",
        "my_tuple = (4, 5, 6)\n",
        "my_dict = {\"a\": 10, \"b\": 20}\n",
        "print(my_list)\n",
        "print(my_tuple)\n",
        "print(my_dict)"
      ],
      "metadata": {
        "colab": {
          "base_uri": "https://localhost:8080/"
        },
        "id": "Nblktg5KoMop",
        "outputId": "f5b3d6ef-9893-43cf-c247-094636ffdcfb"
      },
      "execution_count": 585,
      "outputs": [
        {
          "output_type": "stream",
          "name": "stdout",
          "text": [
            "[1, 2, 3]\n",
            "(4, 5, 6)\n",
            "{'a': 10, 'b': 20}\n"
          ]
        }
      ]
    },
    {
      "cell_type": "markdown",
      "source": [
        "27. Write a code to create a list of 5 random numbers between 1 and 100, sort it in ascending order, and print the\n",
        "result.(replaced)"
      ],
      "metadata": {
        "id": "-iy5305XoP-1"
      }
    },
    {
      "cell_type": "code",
      "source": [
        "import random\n",
        "numbers = random.sample(range(1, 101), 5)\n",
        "numbers.sort()\n",
        "print(numbers)"
      ],
      "metadata": {
        "colab": {
          "base_uri": "https://localhost:8080/"
        },
        "id": "3qUtEOLnoTQW",
        "outputId": "bdbeb425-64df-4236-a3a6-d46b3194cb60"
      },
      "execution_count": 586,
      "outputs": [
        {
          "output_type": "stream",
          "name": "stdout",
          "text": [
            "[5, 47, 51, 73, 97]\n"
          ]
        }
      ]
    },
    {
      "cell_type": "markdown",
      "source": [
        "28. Write a code to create a list with strings and print the element at the third index."
      ],
      "metadata": {
        "id": "3vXdHq7CoXAx"
      }
    },
    {
      "cell_type": "code",
      "source": [
        "words = [\"apple\", \"banana\", \"cherry\", \"date\", \"elderberry\"]\n",
        "print(words[3])"
      ],
      "metadata": {
        "colab": {
          "base_uri": "https://localhost:8080/"
        },
        "id": "HtIBYen8oXrV",
        "outputId": "a0dac65c-5909-467c-bc2e-6351e32df944"
      },
      "execution_count": 587,
      "outputs": [
        {
          "output_type": "stream",
          "name": "stdout",
          "text": [
            "date\n"
          ]
        }
      ]
    },
    {
      "cell_type": "markdown",
      "source": [
        "29. Write a code to combine two dictionaries into one and print the result."
      ],
      "metadata": {
        "id": "BhUjdDgHoai4"
      }
    },
    {
      "cell_type": "code",
      "source": [
        "dict1 = {\"a\": 1, \"b\": 2}\n",
        "dict2 = {\"c\": 3, \"d\": 4}\n",
        "combined = {**dict1, **dict2}\n",
        "print(combined)"
      ],
      "metadata": {
        "colab": {
          "base_uri": "https://localhost:8080/"
        },
        "id": "_9sAYuCGocul",
        "outputId": "6d37fa69-617a-485e-b029-4d03a8c05022"
      },
      "execution_count": 588,
      "outputs": [
        {
          "output_type": "stream",
          "name": "stdout",
          "text": [
            "{'a': 1, 'b': 2, 'c': 3, 'd': 4}\n"
          ]
        }
      ]
    },
    {
      "cell_type": "markdown",
      "source": [
        "30. Write a code to convert a list of strings into a set."
      ],
      "metadata": {
        "id": "BVx2iIFDol-0"
      }
    },
    {
      "cell_type": "code",
      "source": [
        "string_list = [\"apple\", \"banana\", \"apple\", \"cherry\"]\n",
        "string_set = set(string_list)\n",
        "print(string_set)"
      ],
      "metadata": {
        "colab": {
          "base_uri": "https://localhost:8080/"
        },
        "id": "NNM_ta6Yonuq",
        "outputId": "91d27dce-d619-46ff-d515-c4210fa7e9a6"
      },
      "execution_count": 589,
      "outputs": [
        {
          "output_type": "stream",
          "name": "stdout",
          "text": [
            "{'banana', 'apple', 'cherry'}\n"
          ]
        }
      ]
    }
  ],
  "metadata": {
    "colab": {
      "name": "Welcome to Colab",
      "provenance": [],
      "include_colab_link": true
    },
    "kernelspec": {
      "display_name": "Python 3",
      "name": "python3"
    }
  },
  "nbformat": 4,
  "nbformat_minor": 0
}